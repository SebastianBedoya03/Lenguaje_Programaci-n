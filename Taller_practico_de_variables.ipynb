{
  "nbformat": 4,
  "nbformat_minor": 0,
  "metadata": {
    "colab": {
      "provenance": []
    },
    "kernelspec": {
      "name": "python3",
      "display_name": "Python 3"
    },
    "language_info": {
      "name": "python"
    }
  },
  "cells": [
    {
      "cell_type": "markdown",
      "source": [
        "### Taller Práctico: Variables en Python para Ingeniería Financiera\n",
        "\n",
        "# Introducción\n",
        "# En este taller, aprenderás a utilizar diferentes tipos de variables en Python\n",
        "# a través de ejercicios prácticos aplicados a escenarios financieros."
      ],
      "metadata": {
        "id": "Bo6nh2CyULcw"
      }
    },
    {
      "cell_type": "code",
      "source": [
        "# Ejercicio 1: Variables tipo string\n",
        "# Contexto: Un banco necesita almacenar el nombre de sus clientes. almacena 5 clientes en 5 variables diferentes\n"
      ],
      "metadata": {
        "id": "5jA7bjhcXcWI"
      },
      "execution_count": null,
      "outputs": []
    },
    {
      "cell_type": "markdown",
      "source": [
        "Resultado:"
      ],
      "metadata": {
        "id": "GmV9EQUzXuWv"
      }
    },
    {
      "cell_type": "code",
      "source": [
        "#Ingrese codigo aquí\n",
        "cliente1 = \"Sebastian\"\n",
        "cliente2 = \"Luisa\"\n",
        "cliente3 = \"Cristian\"\n",
        "cliente4 = \"Isabel\"\n",
        "#Ingrese codigo aquí\n",
        "cliente1 = \"Sebastian\"\n",
        "cliente2 = \"Luisa\"\n",
        "cliente3 = \"Cristian\"\n",
        "cliente4 = \"Isabel\"\n",
        "cliente5 = \"Anggy\"\n",
        "\n",
        "print(\"el nombre de los clientes son los siguientes :\",cliente1,\",\",cliente2,\",\",cliente3,\",\",cliente4,\",\",cliente5 )"
      ],
      "metadata": {
        "id": "jA7Qhj2tXwBN",
        "colab": {
          "base_uri": "https://localhost:8080/"
        },
        "outputId": "380e83e2-4597-4bec-b27c-728a6aadc8f1"
      },
      "execution_count": 46,
      "outputs": [
        {
          "output_type": "stream",
          "name": "stdout",
          "text": [
            "el nombre de los clientes son los siguientes : Sebastian , Luisa , Cristian , Isabel , Anggy\n"
          ]
        }
      ]
    },
    {
      "cell_type": "code",
      "source": [
        "# Ejercicio 2: Concatenación de Strings\n",
        "# Contexto: Al generar reportes, el banco quiere mostrar el tipo de cuenta junto al nombre del cliente. realiza el ejercicio para las 5 variables\n"
      ],
      "metadata": {
        "id": "Sx7DMAgIX2xG"
      },
      "execution_count": null,
      "outputs": []
    },
    {
      "cell_type": "markdown",
      "source": [
        "Resultado"
      ],
      "metadata": {
        "id": "MgijW_JIX8Lu"
      }
    },
    {
      "cell_type": "code",
      "source": [
        "# Ingresa código aqui\n",
        "\n",
        "cuenta_1 = \"Cuenta de ahorros\"\n",
        "cuenta_2 = \"Cuenta corriente\"\n",
        "reporte = cliente1 + \" \"+ \"es una \" +cuenta_1\n",
        "print(\"el reporte del cliente\",reporte)\n",
        "reporte2 = cliente2 + \" \"+ \"es una \" +cuenta_2\n",
        "print(\"el reporte del cliente\",reporte2)\n",
        "reporte3 = cliente3 + \" \"+ \"es una \" +cuenta_1\n",
        "print(\"el reporte del cliente\",reporte3)\n",
        "reporte4 = cliente4 + \" \"+ \"es una \" +cuenta_2\n",
        "print(\"el reporte del cliente\",reporte4)\n",
        "reporte5 = cliente5 + \" \"+ \"es una \" +cuenta_1\n",
        "print(\"el reporte del cliente\",reporte5)"
      ],
      "metadata": {
        "id": "HjTub7W1X9c8",
        "colab": {
          "base_uri": "https://localhost:8080/"
        },
        "outputId": "5692eb3d-fe53-4e51-ff0e-7645ec417848"
      },
      "execution_count": 57,
      "outputs": [
        {
          "output_type": "stream",
          "name": "stdout",
          "text": [
            "el reporte del cliente Sebastian es una Cuenta de ahorros\n",
            "el reporte del cliente Luisa es una Cuenta corriente\n",
            "el reporte del cliente Cristian es una Cuenta de ahorros\n",
            "el reporte del cliente Isabel es una Cuenta corriente\n",
            "el reporte del cliente Anggy es una Cuenta de ahorros\n"
          ]
        }
      ]
    },
    {
      "cell_type": "code",
      "source": [
        "# Ejercicio 4: Formateo de Variables\n",
        "# Contexto: Un banco necesita mostrar el saldo de un cliente con formato adecuado.\n"
      ],
      "metadata": {
        "id": "BC_aRDtOYKrb"
      },
      "execution_count": null,
      "outputs": []
    },
    {
      "cell_type": "markdown",
      "source": [
        "Resultado"
      ],
      "metadata": {
        "id": "swsBPuJ3YSej"
      }
    },
    {
      "cell_type": "code",
      "source": [
        "#Ingrese el código aquí\n",
        "Saldo = 1800000\n",
        "mensaje_saldo = f\"El saldo del cliente {cliente1} es de $ {Saldo:,.2f} pesos\"\n",
        "print(mensaje_saldo)\n",
        "saldo2 = 1300000\n",
        "mensaje_saldo2 = f\"El saldo del cliente {cliente2} es de $ {saldo2:,.2f} pesos\"\n",
        "print(mensaje_saldo2)\n",
        "saldo3 = 2000000\n",
        "mensaje_saldo3 = f\"El saldo del cliente {cliente3} es de $ {saldo3:,.2f} pesos\"\n",
        "print(mensaje_saldo3)"
      ],
      "metadata": {
        "id": "NPlztw_KYTzL",
        "colab": {
          "base_uri": "https://localhost:8080/"
        },
        "outputId": "138dba61-c002-419a-a140-7567dffc2de6"
      },
      "execution_count": 62,
      "outputs": [
        {
          "output_type": "stream",
          "name": "stdout",
          "text": [
            "El saldo del cliente Sebastian es de $ 1,800,000.00 pesos\n",
            "El saldo del cliente Luisa es de $ 1,300,000.00 pesos\n",
            "El saldo del cliente Cristian es de $ 2,000,000.00 pesos\n"
          ]
        }
      ]
    },
    {
      "cell_type": "code",
      "source": [
        "# Ejercicio 5: Entrada de Datos\n",
        "# Contexto: Un cliente ingresa su número de identificación para consultar su estado de cuenta. crea para cada cliente una variable de identificacion\n",
        "id_cliente = input(\"Ingrese su número de identificación: \")\n",
        "print(\"ID registrado:\", id_cliente)"
      ],
      "metadata": {
        "id": "I7yQTuYqYcIJ"
      },
      "execution_count": null,
      "outputs": []
    },
    {
      "cell_type": "markdown",
      "source": [
        "Resultado"
      ],
      "metadata": {
        "id": "7vzKHerGYgpt"
      }
    },
    {
      "cell_type": "code",
      "source": [
        "#inserte código aqui\n",
        "id_cliente1 = input(\"Ingrese su número de cedula: \")\n",
        "print(\"ID registrado:\", id_cliente1)\n",
        "print(f\"la cedula del cliente {cliente1} es {id_cliente1}\")\n",
        "id_cliente2 = input(\"Ingrese su número de cedula: \")\n",
        "print(\"ID registrado:\", id_cliente2)\n",
        "print(f\"la cedula del cliente {cliente2} es {id_cliente2}\")\n",
        "id_cliente3 = input(\"Ingrese su número de cedula: \")\n",
        "print(\"ID registrado:\", id_cliente3)\n",
        "print(f\"la cedula del cliente {cliente3} es {id_cliente3}\")\n",
        "id_cliente4 = input(\"Ingrese su número de cedula: \")\n",
        "print(\"ID registrado:\", id_cliente4)\n",
        "print(f\"la cedula del cliente {cliente4} es {id_cliente4}\")\n",
        "id_cliente5 = input(\"Ingrese su número de cedula: \")\n",
        "print(\"ID registrado:\", id_cliente5)\n",
        "print(f\"la cedula del cliente {cliente5} es {id_cliente5}\")\n"
      ],
      "metadata": {
        "id": "puoOr2v2Yhz5",
        "colab": {
          "base_uri": "https://localhost:8080/",
          "height": 356
        },
        "outputId": "fcd6e007-11ab-4aec-915d-d11d7a5b2b21"
      },
      "execution_count": 66,
      "outputs": [
        {
          "output_type": "error",
          "ename": "KeyboardInterrupt",
          "evalue": "Interrupted by user",
          "traceback": [
            "\u001b[0;31m---------------------------------------------------------------------------\u001b[0m",
            "\u001b[0;31mKeyboardInterrupt\u001b[0m                         Traceback (most recent call last)",
            "\u001b[0;32m<ipython-input-66-1b871054a140>\u001b[0m in \u001b[0;36m<cell line: 0>\u001b[0;34m()\u001b[0m\n\u001b[1;32m      1\u001b[0m \u001b[0;31m#inserte código aqui\u001b[0m\u001b[0;34m\u001b[0m\u001b[0;34m\u001b[0m\u001b[0m\n\u001b[0;32m----> 2\u001b[0;31m \u001b[0mid_cliente1\u001b[0m \u001b[0;34m=\u001b[0m \u001b[0minput\u001b[0m\u001b[0;34m(\u001b[0m\u001b[0;34m\"Ingrese su número de cedula: \"\u001b[0m\u001b[0;34m)\u001b[0m\u001b[0;34m\u001b[0m\u001b[0;34m\u001b[0m\u001b[0m\n\u001b[0m\u001b[1;32m      3\u001b[0m \u001b[0mprint\u001b[0m\u001b[0;34m(\u001b[0m\u001b[0;34m\"ID registrado:\"\u001b[0m\u001b[0;34m,\u001b[0m \u001b[0mid_cliente1\u001b[0m\u001b[0;34m)\u001b[0m\u001b[0;34m\u001b[0m\u001b[0;34m\u001b[0m\u001b[0m\n\u001b[1;32m      4\u001b[0m \u001b[0mprint\u001b[0m\u001b[0;34m(\u001b[0m\u001b[0;34mf\"la cedula del cliente {cliente1} es {id_cliente1}\"\u001b[0m\u001b[0;34m)\u001b[0m\u001b[0;34m\u001b[0m\u001b[0;34m\u001b[0m\u001b[0m\n\u001b[1;32m      5\u001b[0m \u001b[0mid_cliente2\u001b[0m \u001b[0;34m=\u001b[0m \u001b[0minput\u001b[0m\u001b[0;34m(\u001b[0m\u001b[0;34m\"Ingrese su número de cedula: \"\u001b[0m\u001b[0;34m)\u001b[0m\u001b[0;34m\u001b[0m\u001b[0;34m\u001b[0m\u001b[0m\n",
            "\u001b[0;32m/usr/local/lib/python3.11/dist-packages/ipykernel/kernelbase.py\u001b[0m in \u001b[0;36mraw_input\u001b[0;34m(self, prompt)\u001b[0m\n\u001b[1;32m   1175\u001b[0m                 \u001b[0;34m\"raw_input was called, but this frontend does not support input requests.\"\u001b[0m\u001b[0;34m\u001b[0m\u001b[0;34m\u001b[0m\u001b[0m\n\u001b[1;32m   1176\u001b[0m             )\n\u001b[0;32m-> 1177\u001b[0;31m         return self._input_request(\n\u001b[0m\u001b[1;32m   1178\u001b[0m             \u001b[0mstr\u001b[0m\u001b[0;34m(\u001b[0m\u001b[0mprompt\u001b[0m\u001b[0;34m)\u001b[0m\u001b[0;34m,\u001b[0m\u001b[0;34m\u001b[0m\u001b[0;34m\u001b[0m\u001b[0m\n\u001b[1;32m   1179\u001b[0m             \u001b[0mself\u001b[0m\u001b[0;34m.\u001b[0m\u001b[0m_parent_ident\u001b[0m\u001b[0;34m[\u001b[0m\u001b[0;34m\"shell\"\u001b[0m\u001b[0;34m]\u001b[0m\u001b[0;34m,\u001b[0m\u001b[0;34m\u001b[0m\u001b[0;34m\u001b[0m\u001b[0m\n",
            "\u001b[0;32m/usr/local/lib/python3.11/dist-packages/ipykernel/kernelbase.py\u001b[0m in \u001b[0;36m_input_request\u001b[0;34m(self, prompt, ident, parent, password)\u001b[0m\n\u001b[1;32m   1217\u001b[0m             \u001b[0;32mexcept\u001b[0m \u001b[0mKeyboardInterrupt\u001b[0m\u001b[0;34m:\u001b[0m\u001b[0;34m\u001b[0m\u001b[0;34m\u001b[0m\u001b[0m\n\u001b[1;32m   1218\u001b[0m                 \u001b[0;31m# re-raise KeyboardInterrupt, to truncate traceback\u001b[0m\u001b[0;34m\u001b[0m\u001b[0;34m\u001b[0m\u001b[0m\n\u001b[0;32m-> 1219\u001b[0;31m                 \u001b[0;32mraise\u001b[0m \u001b[0mKeyboardInterrupt\u001b[0m\u001b[0;34m(\u001b[0m\u001b[0;34m\"Interrupted by user\"\u001b[0m\u001b[0;34m)\u001b[0m \u001b[0;32mfrom\u001b[0m \u001b[0;32mNone\u001b[0m\u001b[0;34m\u001b[0m\u001b[0;34m\u001b[0m\u001b[0m\n\u001b[0m\u001b[1;32m   1220\u001b[0m             \u001b[0;32mexcept\u001b[0m \u001b[0mException\u001b[0m\u001b[0;34m:\u001b[0m\u001b[0;34m\u001b[0m\u001b[0;34m\u001b[0m\u001b[0m\n\u001b[1;32m   1221\u001b[0m                 \u001b[0mself\u001b[0m\u001b[0;34m.\u001b[0m\u001b[0mlog\u001b[0m\u001b[0;34m.\u001b[0m\u001b[0mwarning\u001b[0m\u001b[0;34m(\u001b[0m\u001b[0;34m\"Invalid Message:\"\u001b[0m\u001b[0;34m,\u001b[0m \u001b[0mexc_info\u001b[0m\u001b[0;34m=\u001b[0m\u001b[0;32mTrue\u001b[0m\u001b[0;34m)\u001b[0m\u001b[0;34m\u001b[0m\u001b[0;34m\u001b[0m\u001b[0m\n",
            "\u001b[0;31mKeyboardInterrupt\u001b[0m: Interrupted by user"
          ]
        }
      ]
    },
    {
      "cell_type": "code",
      "source": [
        "# Ejercicio 6: Variables Booleanas\n",
        "# Contexto: Validar si un cliente tiene derecho a un préstamo. crea tres ejercicios con variables booleanas\n",
        "ingresos_mensuales = 3000\n",
        "historial_crediticio = True\n",
        "es_aprobado = ingresos_mensuales > 2500 and historial_crediticio\n",
        "print(\"¿El cliente es aprobado para el préstamo?:\", es_aprobado)"
      ],
      "metadata": {
        "id": "_zpACyy_YzZ4"
      },
      "execution_count": null,
      "outputs": []
    },
    {
      "cell_type": "code",
      "source": [
        "#Ingrese el codigo\n",
        "ingresos_mensuales = 1800000\n",
        "historial_crediticio = True\n",
        "es_aprobado = ingresos_mensuales > 1600000 and historial_crediticio\n",
        "print(\"¿El cliente es aprobado para el préstamo?:\", es_aprobado)\n",
        "print(f\"el cliente {cliente1} tiene aprobación para el prestamo {es_aprobado}\")\n",
        "ingresos_mensuales2 = 1300000\n",
        "historial_crediticio2 = True\n",
        "es_aprobado2 = ingresos_mensuales2 > 1600000 and historial_crediticio2\n",
        "print(\"¿El cliente es aprobado para el préstamo?:\", es_aprobado2)\n",
        "print(f\"el cliente {cliente2} tiene aprobación para el prestamo {es_aprobado2}\")\n",
        "ingresos_mensuales3 = 2000000\n",
        "historial_crediticio3 = True\n",
        "es_aprobado3 = ingresos_mensuales3 < 1600000 and historial_crediticio3\n",
        "print(\"¿El cliente es aprobado para el préstamo?:\", es_aprobado3)\n",
        "print(f\"el cliente {cliente3} tiene aprobación para el prestamo {es_aprobado3}\")"
      ],
      "metadata": {
        "colab": {
          "base_uri": "https://localhost:8080/"
        },
        "id": "K6tvbxmialjs",
        "outputId": "06fb820c-059a-4db5-eb37-479f9fee8af1"
      },
      "execution_count": 69,
      "outputs": [
        {
          "output_type": "stream",
          "name": "stdout",
          "text": [
            "¿El cliente es aprobado para el préstamo?: True\n",
            "el cliente Sebastian tiene aprobación para el prestamo True\n",
            "¿El cliente es aprobado para el préstamo?: False\n",
            "el cliente Luisa tiene aprobación para el prestamo False\n",
            "¿El cliente es aprobado para el préstamo?: False\n",
            "el cliente Cristian tiene aprobación para el prestamo False\n"
          ]
        }
      ]
    },
    {
      "cell_type": "code",
      "source": [],
      "metadata": {
        "id": "84ojx3BicWjS"
      },
      "execution_count": null,
      "outputs": []
    }
  ]
}