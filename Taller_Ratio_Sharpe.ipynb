{
  "nbformat": 4,
  "nbformat_minor": 0,
  "metadata": {
    "colab": {
      "provenance": [],
      "authorship_tag": "ABX9TyMkRVUUMbW+TuhJLNx7pWdH",
      "include_colab_link": true
    },
    "kernelspec": {
      "name": "python3",
      "display_name": "Python 3"
    },
    "language_info": {
      "name": "python"
    }
  },
  "cells": [
    {
      "cell_type": "markdown",
      "metadata": {
        "id": "view-in-github",
        "colab_type": "text"
      },
      "source": [
        "<a href=\"https://colab.research.google.com/github/SebastianBedoya03/Lenguaje_Programaci-n/blob/main/Taller_Ratio_Sharpe.ipynb\" target=\"_parent\"><img src=\"https://colab.research.google.com/assets/colab-badge.svg\" alt=\"Open In Colab\"/></a>"
      ]
    },
    {
      "cell_type": "markdown",
      "source": [
        "#**Ratio de Sharpe**\n",
        "El ratio de Sharpe es un indicador utilizado para medir la rentabilidad que ofrece una inversión en relación al riesgo que se asume con ella.\n",
        "\n",
        "## **¿Cómo se calcula?**\n",
        "\n",
        "Se calcula al dividir la rentabilidad del fondo menos la tasa de interés sin riesgo entre la volatilidad en un tiempo determinado.\n",
        "##**Fórmula**\n",
        "\n",
        "$$ S = {\\frac {Rp-Rf}{\\sigma}}$$\n",
        "\n",
        "\n",
        "Donde:\n",
        "- **(Rp)** = Rentabilidad del Portafolio\n",
        "- **(Rf)** = Tasa Libre de Riesgo\n",
        "- **$\\sigma$** = Desviación Estandar\n",
        "\n",
        "## **¿Cómo se interpreta?**\n",
        "\n",
        "Un valor superior a 1 se considera muy bueno, ya que indica que la rentabilidad compensa el riesgo. En cambio, un valor inferior a 1 significa que el riesgo es mayor que el rendimiento obtenido. Es importante comparar este índice con el de otras inversiones para evaluar su desempeño relativo. cuanto mayor sea el índice de Sharpe, mejor rentabilidad ajustada al riesgo ofrece el fondo de inversión.\n",
        "\n",
        "##**Fuente**\n",
        "[Qué es el ratio de Sharpe](https://www.finect.com/usuario/sandraalquezar/articulos/que-es-el-ratio-de-sharpe#:~:text=%C2%BFQu%C3%A9%20es%20y%20qu%C3%A9%20mide,a%20la%20hora%20de%20invertir.)\n",
        "\n",
        "[Ratio Sharpe](https://www.bankinter.com/banca/diccionario-economico/ratio-de-sharpe#letra-A)\n",
        "\n",
        "\n"
      ],
      "metadata": {
        "id": "o6eawKCQRYCx"
      }
    },
    {
      "cell_type": "markdown",
      "source": [
        "\n",
        "##**Ejercicio aplicación Ratio de Sharpe**\n",
        "La empresa Inversiones Alpha S.A. ha creado un fondo de inversión para maximizar sus rendimientos en los próximos años. Al final del último año, ha recopilado los siguientes datos financieros de su portafolio:\n",
        "\n",
        "####Fondo A\n",
        "- Retorno esperado: 14%\n",
        "- Desviación estándar: 10%\n",
        "\n",
        "####Fondo B\n",
        "- Retorno esperado: 10%\n",
        "- Desviación estándar: 8%\n",
        "\n",
        "La tasa libre de riesgo es: 4%\n",
        "\n",
        "## **Preguntas**\n",
        "1. Calcular el Ratio de Sharpe para cada fondo.\n",
        "2. ¿Cuál fondo tiene un mejor rendimiento ajustado por riesgo?"
      ],
      "metadata": {
        "id": "p7Ha27r2Wn9J"
      }
    },
    {
      "cell_type": "markdown",
      "source": [
        "**Datos**"
      ],
      "metadata": {
        "id": "NvR9gUKa-Vkq"
      }
    },
    {
      "cell_type": "code",
      "execution_count": 7,
      "metadata": {
        "id": "KOd1gjUOQbBf"
      },
      "outputs": [],
      "source": [
        "# Datos Fondo A\n",
        "Rp_A = 0.14\n",
        "sigma_A = 0.10\n",
        "\n",
        "# Datos Fondo B\n",
        "Rp_B = 0.10\n",
        "sigma_B = 0.08\n",
        "\n",
        "# Tasa Libre de Riesgo\n",
        "Rf = 0.04\n",
        "\n"
      ]
    },
    {
      "cell_type": "markdown",
      "source": [
        "**Cálculo**"
      ],
      "metadata": {
        "id": "Jwsoo7Yu-YzR"
      }
    },
    {
      "cell_type": "code",
      "source": [
        "# Calculo\n",
        "Ratio_Sharpe_A = (Rp_A - Rf) / sigma_A\n",
        "Ratio_Sharpe_B = (Rp_B - Rf) / sigma_B\n",
        "print(\"El fondo A tiene un ratio de sharpe de\",round(Ratio_Sharpe_A,2))\n",
        "print(\"El fondo B tiene un ratio de sharpe de\",round(Ratio_Sharpe_B,2))\n"
      ],
      "metadata": {
        "colab": {
          "base_uri": "https://localhost:8080/"
        },
        "id": "1cvt2f51ZacA",
        "outputId": "1655445d-ec25-4cff-c5bd-5136cc13d779"
      },
      "execution_count": 8,
      "outputs": [
        {
          "output_type": "stream",
          "name": "stdout",
          "text": [
            "El fondo A tiene un ratio de sharpe de 1.0\n",
            "El fondo B tiene un ratio de sharpe de 0.75\n"
          ]
        }
      ]
    },
    {
      "cell_type": "markdown",
      "source": [
        "**Interpretación**"
      ],
      "metadata": {
        "id": "YzawMyYM-njN"
      }
    },
    {
      "cell_type": "code",
      "source": [
        "#Interpretación\n",
        "if Ratio_Sharpe_A > Ratio_Sharpe_B:\n",
        "  print(\"El fondo A tiene un mayor ratio de sharpe que el fondo B,esto significa que el Fondo A ha sido más eficiente en generar rendimientos por el riesgo que asume\")\n",
        "else:\n",
        "  print(\"El fondo B tiene un mayor ratio de sharpe que el fondo A,esto significa que el Fondo B ha sido más eficiente en generar rendimientos por el riesgo que asume\")"
      ],
      "metadata": {
        "colab": {
          "base_uri": "https://localhost:8080/"
        },
        "id": "MIFdBaQwcv74",
        "outputId": "ffdb119e-5195-4743-a9b5-ff6b90018d42"
      },
      "execution_count": 9,
      "outputs": [
        {
          "output_type": "stream",
          "name": "stdout",
          "text": [
            "El fondo A tiene un mayor ratio de sharpe que el fondo B,esto significa que el Fondo A ha sido más eficiente en generar rendimientos por el riesgo que asume\n"
          ]
        }
      ]
    }
  ]
}