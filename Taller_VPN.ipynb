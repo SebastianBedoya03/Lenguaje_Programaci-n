{
  "nbformat": 4,
  "nbformat_minor": 0,
  "metadata": {
    "colab": {
      "provenance": [],
      "authorship_tag": "ABX9TyOVRPUHxcN4IJK+RiytLOPm",
      "include_colab_link": true
    },
    "kernelspec": {
      "name": "python3",
      "display_name": "Python 3"
    },
    "language_info": {
      "name": "python"
    }
  },
  "cells": [
    {
      "cell_type": "markdown",
      "metadata": {
        "id": "view-in-github",
        "colab_type": "text"
      },
      "source": [
        "<a href=\"https://colab.research.google.com/github/SebastianBedoya03/Lenguaje_Programaci-n/blob/main/Taller_VPN.ipynb\" target=\"_parent\"><img src=\"https://colab.research.google.com/assets/colab-badge.svg\" alt=\"Open In Colab\"/></a>"
      ]
    },
    {
      "cell_type": "markdown",
      "source": [
        "#**Valor Presente Neto (VPN)**\n",
        "es un indicador financiero que se usa para evaluar la rentabilidad de una inversión o proyecto. Se calcula descontando todos los flujos de caja futuros esperados al valor presente utilizando una tasa de descuento, y luego restando la inversión inicial.\n",
        "\n",
        "**Formula**\n",
        "\n",
        "$$ VPN= \\sum _{t=0}^{n} \\frac{F_t}{(1 + r)^t} - C_o $$\n",
        "\n",
        "donde:\n",
        "\n",
        "- **\\(Ft\\)** = Flujo de caja neto en el periodo \\(t\\).\n",
        "- **\\(r\\)** = Tasa de Descuento\n",
        "- **\\(t\\)** = Número de periodos\n",
        "- **\\(Co\\)** = Inversión inicial\n",
        "\n"
      ],
      "metadata": {
        "id": "Ot3YS3YgjXvr"
      }
    },
    {
      "cell_type": "markdown",
      "source": [
        "##**Descripción del Proyecto**\n",
        "la empresa está considerando un proyecto con una inversión inicial de 10,000 y espera recibir flujos de caja de 3,000 en cada uno de los próximos tres años. La tasa de descuento es del 5%.\n"
      ],
      "metadata": {
        "id": "Pu_osD_Ouqk2"
      }
    },
    {
      "cell_type": "markdown",
      "source": [
        "**Datos**"
      ],
      "metadata": {
        "id": "ncpgRTV6-txr"
      }
    },
    {
      "cell_type": "code",
      "execution_count": 6,
      "metadata": {
        "id": "ujsxqNKAilXg"
      },
      "outputs": [],
      "source": [
        "#Datos\n",
        "inversion_inicial = 10000\n",
        "flujo_de_caja_Año1 = 3000\n",
        "flujo_de_caja_Año2 = 3000\n",
        "flujo_de_caja_Año3 = 3000\n",
        "tasa_de_descuento = 0.05"
      ]
    },
    {
      "cell_type": "markdown",
      "source": [
        "**Fórmula**"
      ],
      "metadata": {
        "id": "IB6o9mX--wDn"
      }
    },
    {
      "cell_type": "code",
      "source": [
        "#Fórmula\n",
        "VPN = (round((flujo_de_caja_Año1/(1 + tasa_de_descuento)**1)+(flujo_de_caja_Año2/(1 + tasa_de_descuento)**2)+(flujo_de_caja_Año3/(1 + tasa_de_descuento)**3)-inversion_inicial,2))\n",
        "print(\"El valor presente neto (VPN) es el siguiente:\",VPN)\n"
      ],
      "metadata": {
        "colab": {
          "base_uri": "https://localhost:8080/"
        },
        "id": "4Azr8AmZwB4t",
        "outputId": "19a300d8-e41a-4525-c4b7-53117d639933"
      },
      "execution_count": 16,
      "outputs": [
        {
          "output_type": "stream",
          "name": "stdout",
          "text": [
            "El valor presente neto (VPN) es el siguiente: -1830.26\n"
          ]
        }
      ]
    },
    {
      "cell_type": "markdown",
      "source": [
        "**Interpretación**"
      ],
      "metadata": {
        "id": "7bCQhqCz-z_m"
      }
    },
    {
      "cell_type": "code",
      "source": [
        "#Interpretación\n",
        "if VPN > 0:\n",
        "  print(\"El proyecto es viable, ya que su VPN es positivo\")\n",
        "else:\n",
        "  print(\"El proyecto no es viable, ya que su VPN es negativo\")\n"
      ],
      "metadata": {
        "colab": {
          "base_uri": "https://localhost:8080/"
        },
        "id": "fSh0uzgE0T3M",
        "outputId": "8a329041-5ed8-484e-c63b-488f6998be12"
      },
      "execution_count": 21,
      "outputs": [
        {
          "output_type": "stream",
          "name": "stdout",
          "text": [
            "El proyecto no es viable, ya que su VPN es negativo\n"
          ]
        }
      ]
    }
  ]
}