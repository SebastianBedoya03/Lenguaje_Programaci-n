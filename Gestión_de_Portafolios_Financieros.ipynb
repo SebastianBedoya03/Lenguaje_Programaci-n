{
  "nbformat": 4,
  "nbformat_minor": 0,
  "metadata": {
    "colab": {
      "provenance": [],
      "authorship_tag": "ABX9TyPYffrW4/o5PQGf9oc/iHj2",
      "include_colab_link": true
    },
    "kernelspec": {
      "name": "python3",
      "display_name": "Python 3"
    },
    "language_info": {
      "name": "python"
    }
  },
  "cells": [
    {
      "cell_type": "markdown",
      "metadata": {
        "id": "view-in-github",
        "colab_type": "text"
      },
      "source": [
        "<a href=\"https://colab.research.google.com/github/SebastianBedoya03/Lenguaje_Programaci-n/blob/main/Gesti%C3%B3n_de_Portafolios_Financieros.ipynb\" target=\"_parent\"><img src=\"https://colab.research.google.com/assets/colab-badge.svg\" alt=\"Open In Colab\"/></a>"
      ]
    },
    {
      "cell_type": "markdown",
      "source": [
        "## **Contexto del Taller**\n",
        "Eres parte del equipo de análisis financiero de una empresa que gestiona portafolios de inversión para varios clientes. Debes desarrollar un script en Python para ayudar a la empresa a gestionar información sobre las inversiones de los clientes y generar informes sobre el rendimiento de sus portafolios."
      ],
      "metadata": {
        "id": "vdMyDyWZrzmg"
      }
    },
    {
      "cell_type": "markdown",
      "source": [
        "####**Parte 1: Declaración de Variables y Listas**\n",
        "- Datos de Inversión Inicial\n",
        "\n",
        "La empresa ha recopilado los siguientes datos sobre cuatro clientes:\n",
        "- Clientes: Juan Perez, Maria Rodriguez, Carlos Lopez, Ana Gomez\n",
        "\n",
        "- Montos invertidos (en dólares): 10000, 15000, 20000, 18000\n",
        "\n",
        "- Rendimientos anuales (%): 5.5, 6.0, 4.0, 7.5"
      ],
      "metadata": {
        "id": "nRGfP6aYsakn"
      }
    },
    {
      "cell_type": "code",
      "execution_count": 97,
      "metadata": {
        "id": "nVbCKLpqoody"
      },
      "outputs": [],
      "source": [
        "# Clientes\n",
        "clientes = [\"Juan Perez\",\"Maria Rodriguez\",\"Carlos Lopez\",\"Ana Gomez\"]\n",
        "# Montos Invertidos\n",
        "montos_invertidos = [10000,15000,20000,18000]\n",
        "# Rendimientos Anuales (%)\n",
        "rendimientos_anuales = [5.5,6.0,4.0,7.5]"
      ]
    },
    {
      "cell_type": "markdown",
      "source": [
        "- Crear Tuplas para almacenar la Información\n",
        "\n",
        "Crea una tupla para cada cliente que contenga su nombre, monto invertido y rendimiento."
      ],
      "metadata": {
        "id": "yESDS5ijwOW_"
      }
    },
    {
      "cell_type": "code",
      "source": [
        "cliente_1 = (clientes[0],montos_invertidos[0],rendimientos_anuales[0])\n",
        "cliente_2 = (clientes[1],montos_invertidos[1],rendimientos_anuales[1])\n",
        "cliente_3 = (clientes[2],montos_invertidos[2],rendimientos_anuales[2])\n",
        "cliente_4 = (clientes[3],montos_invertidos[3],rendimientos_anuales[3])"
      ],
      "metadata": {
        "id": "Zm7XnUYOwQb2"
      },
      "execution_count": 98,
      "outputs": []
    },
    {
      "cell_type": "code",
      "source": [
        "print(\"La base de datos contiene la siguiente información:\")\n",
        "print(\"\\n\")\n",
        "print(cliente_1)\n",
        "print(cliente_2)\n",
        "print(cliente_3)\n",
        "print(cliente_4)"
      ],
      "metadata": {
        "colab": {
          "base_uri": "https://localhost:8080/"
        },
        "id": "JaQHDQEW80o1",
        "outputId": "b012cfa7-608a-4c86-d002-4ed145b4ee6f"
      },
      "execution_count": 99,
      "outputs": [
        {
          "output_type": "stream",
          "name": "stdout",
          "text": [
            "La base de datos contiene la siguiente información:\n",
            "\n",
            "\n",
            "('Juan Perez', 10000, 5.5)\n",
            "('Maria Rodriguez', 15000, 6.0)\n",
            "('Carlos Lopez', 20000, 4.0)\n",
            "('Ana Gomez', 18000, 7.5)\n"
          ]
        }
      ]
    },
    {
      "cell_type": "markdown",
      "source": [
        "####**Parte 2: Uso de Diccionarios y Condicionales**\n",
        "- Almacenar los Datos en un Diccionario\n",
        "\n",
        "Almacena los datos de los clientes en un diccionario llamado portafolio. En este diccionario, cada clave debe ser el nombre del cliente, y cada valor será un diccionario que contenga el monto_invertido y el rendimiento.\n",
        "\n",
        "\n",
        "\n"
      ],
      "metadata": {
        "id": "skl7bj6V9uIN"
      }
    },
    {
      "cell_type": "code",
      "source": [
        "portafolio={\n",
        "    \"Juan Perez\": {\"monto_invertido\":10000,\"rendimiento\":5.5},\n",
        "    \"Maria Rodriguez\": {\"monto_invertido\":15000,\"rendimiento\":6.0},\n",
        "    \"Carlos Lopez\": {\"monto_invertido\":20000,\"rendimiento\":4.0},\n",
        "    \"Ana Gomez\": {\"monto_invertido\":18000,\"rendimiento\":7.5}\n",
        "}\n"
      ],
      "metadata": {
        "id": "6UFkjrYr-SGf"
      },
      "execution_count": 100,
      "outputs": []
    },
    {
      "cell_type": "markdown",
      "source": [
        "- Evaluación del Rendimiento de los Clientes\n",
        "\n",
        "La empresa quiere identificar qué clientes han tenido un rendimiento superior al 5%"
      ],
      "metadata": {
        "id": "sLgsfXgkKlIL"
      }
    },
    {
      "cell_type": "code",
      "source": [
        "for cliente, datos in portafolio.items():\n",
        "    if datos[\"rendimiento\"] > 5:\n",
        "        print(f\"{cliente} tiene un rendimiento superior al 5%, siendo del:({datos['rendimiento']}%)\")"
      ],
      "metadata": {
        "colab": {
          "base_uri": "https://localhost:8080/"
        },
        "id": "zKbVsuM9Kyel",
        "outputId": "0d3ac41e-8536-43f9-abd5-a068e33c24ca"
      },
      "execution_count": 101,
      "outputs": [
        {
          "output_type": "stream",
          "name": "stdout",
          "text": [
            "Juan Perez tiene un rendimiento superior al 5%, siendo del:(5.5%)\n",
            "Maria Rodriguez tiene un rendimiento superior al 5%, siendo del:(6.0%)\n",
            "Ana Gomez tiene un rendimiento superior al 5%, siendo del:(7.5%)\n"
          ]
        }
      ]
    },
    {
      "cell_type": "markdown",
      "source": [
        "####**Parte 3: Cálculos con Ciclos**\n",
        "- Calcular el Rendimiento Total del Portafolio\n",
        "\n",
        "La empresa desea calcular el rendimiento total del portafolio, que se define como la suma de todos los rendimientos en dólares."
      ],
      "metadata": {
        "id": "tmEnt2R2Mtml"
      }
    },
    {
      "cell_type": "code",
      "source": [
        "rendimiento_total = 0\n",
        "for cliente, datos in portafolio.items():\n",
        "  rendimiento_cliente = (datos[\"monto_invertido\"] * datos[\"rendimiento\"]) / 100\n",
        "  rendimiento_total += rendimiento_cliente\n",
        "print(f\"El rendimiento total del portafolio es de: ${rendimiento_total:.2f}\")"
      ],
      "metadata": {
        "colab": {
          "base_uri": "https://localhost:8080/"
        },
        "id": "ONFXYal-M9U9",
        "outputId": "195ca4bf-0470-42fe-d484-deed0fdb3e9b"
      },
      "execution_count": 102,
      "outputs": [
        {
          "output_type": "stream",
          "name": "stdout",
          "text": [
            "El rendimiento total del portafolio es de: $3600.00\n"
          ]
        }
      ]
    },
    {
      "cell_type": "markdown",
      "source": [
        "- Identificar al Cliente con Mayor Rendimiento\n",
        "\n",
        "La empresa necesita saber qué cliente ha obtenido el mayor rendimiento en términos absolutos."
      ],
      "metadata": {
        "id": "1IU8_jl6Pcp1"
      }
    },
    {
      "cell_type": "code",
      "source": [
        "mayor_rendimiento = 0\n",
        "cliente_mayor_rendimiento = \"\"\n",
        "for cliente, datos in portafolio.items():\n",
        "  rendimiento_cliente_ = (datos[\"monto_invertido\"] * datos[\"rendimiento\"]) / 100\n",
        "  if rendimiento_cliente_ > mayor_rendimiento:\n",
        "    mayor_rendimiento = rendimiento_cliente_\n",
        "    cliente_mayor_rendimiento = cliente\n",
        "print(f\"El cliente con mayor rendimiento absoluto es {cliente_mayor_rendimiento} con: ${mayor_rendimiento:.2f}\")"
      ],
      "metadata": {
        "colab": {
          "base_uri": "https://localhost:8080/"
        },
        "id": "MLFJvSoSPfHD",
        "outputId": "4d61d3fa-39a3-4b06-ec10-3adab139d570"
      },
      "execution_count": 103,
      "outputs": [
        {
          "output_type": "stream",
          "name": "stdout",
          "text": [
            "El cliente con mayor rendimiento absoluto es Ana Gomez con: $1350.00\n"
          ]
        }
      ]
    },
    {
      "cell_type": "markdown",
      "source": [
        "####**Parte 4: Modificaciones del Portafolio**\n",
        "- Actualizar el Monto Invertido de un Cliente\n",
        "\n",
        "\"Carlos Lopez\" ha decidido aumentar su inversión a 25,000 dólares."
      ],
      "metadata": {
        "id": "KVktDD8VRn_D"
      }
    },
    {
      "cell_type": "code",
      "source": [
        "portafolio[\"Carlos Lopez\"][\"monto_invertido\"] = 25000\n",
        "print(\"El monto invertido por el cliente Carlos Lopez ha sido actualizado\")\n",
        "print(portafolio[\"Carlos Lopez\"])"
      ],
      "metadata": {
        "colab": {
          "base_uri": "https://localhost:8080/"
        },
        "id": "qabQ3Um4R-Oj",
        "outputId": "e1e887d9-aaf6-4013-e8e2-2610a6ad06c8"
      },
      "execution_count": 104,
      "outputs": [
        {
          "output_type": "stream",
          "name": "stdout",
          "text": [
            "El monto invertido por el cliente Carlos Lopez ha sido actualizado\n",
            "{'monto_invertido': 25000, 'rendimiento': 4.0}\n"
          ]
        }
      ]
    },
    {
      "cell_type": "markdown",
      "source": [
        "- Añadir un Nuevo Cliente al Portafolio\n",
        "\n",
        "Un nuevo cliente, \"Laura Fernandez\", ha decidido invertir 22,000 dólares con un rendimiento del 6.8%."
      ],
      "metadata": {
        "id": "-hbvB14oUWeb"
      }
    },
    {
      "cell_type": "code",
      "source": [
        "portafolio[\"Laura Fernandez\"]={\"monto_invertido\":22000,\"rendimiento\":6.8}\n",
        "print(\"La cliente Laura Fernandez ha sido añadida al portafolio\")\n",
        "print(\"Laura Fernandez\",portafolio[\"Laura Fernandez\"])\n"
      ],
      "metadata": {
        "colab": {
          "base_uri": "https://localhost:8080/"
        },
        "id": "G03YGiB1XNXG",
        "outputId": "fccce4fb-e0e0-444e-9d3a-a1b35384e084"
      },
      "execution_count": 105,
      "outputs": [
        {
          "output_type": "stream",
          "name": "stdout",
          "text": [
            "La cliente Laura Fernandez ha sido añadida al portafolio\n",
            "Laura Fernandez {'monto_invertido': 22000, 'rendimiento': 6.8}\n"
          ]
        }
      ]
    },
    {
      "cell_type": "markdown",
      "source": [
        "- Remover a un Cliente del Portafolio\n",
        "\n",
        "\"Ana Gomez\" ha decidido retirar su inversión."
      ],
      "metadata": {
        "id": "GqSl_wj2YTWa"
      }
    },
    {
      "cell_type": "code",
      "source": [
        "portafolio.pop(\"Ana Gomez\")\n",
        "print(\"La cliente Ana Gomez ha sido removida del portafolio\")"
      ],
      "metadata": {
        "colab": {
          "base_uri": "https://localhost:8080/"
        },
        "id": "kaO28DywYH91",
        "outputId": "e2a81060-4d5d-44bb-8b5c-687322db4919"
      },
      "execution_count": 106,
      "outputs": [
        {
          "output_type": "stream",
          "name": "stdout",
          "text": [
            "La cliente Ana Gomez ha sido removida del portafolio\n"
          ]
        }
      ]
    },
    {
      "cell_type": "code",
      "source": [
        "print(portafolio)\n"
      ],
      "metadata": {
        "colab": {
          "base_uri": "https://localhost:8080/"
        },
        "id": "u2P6tlMOaE1m",
        "outputId": "a133cf6c-54ec-4bd1-c6ca-c7eeb7bc9f20"
      },
      "execution_count": 107,
      "outputs": [
        {
          "output_type": "stream",
          "name": "stdout",
          "text": [
            "{'Juan Perez': {'monto_invertido': 10000, 'rendimiento': 5.5}, 'Maria Rodriguez': {'monto_invertido': 15000, 'rendimiento': 6.0}, 'Carlos Lopez': {'monto_invertido': 25000, 'rendimiento': 4.0}, 'Laura Fernandez': {'monto_invertido': 22000, 'rendimiento': 6.8}}\n"
          ]
        }
      ]
    }
  ]
}